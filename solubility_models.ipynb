{
 "cells": [
  {
   "cell_type": "code",
   "execution_count": 85,
   "metadata": {
    "collapsed": true,
    "pycharm": {
     "name": "#%%\n"
    }
   },
   "outputs": [],
   "source": [
    "import pandas as pd\n",
    "\n",
    "from rdkit.Chem import Descriptors\n",
    "from rdkit.ML.Descriptors import MoleculeDescriptors\n",
    "from rdkit.Chem import MolFromSmiles\n",
    "\n",
    "from sklearn.model_selection import train_test_split\n",
    "from sklearn import linear_model\n",
    "from sklearn.metrics import mean_squared_error, r2_score\n",
    "\n",
    "import matplotlib.pyplot as plt\n",
    "import numpy as np\n",
    "\n",
    "import pickle\n",
    "\n",
    "from xgboost import XGBRegressor"
   ]
  },
  {
   "cell_type": "markdown",
   "source": [
    "## Load drug solubility dataset\n",
    "(Data from https://www.kaggle.com/competitions/drug-solubility-challenge/)"
   ],
   "metadata": {
    "collapsed": false,
    "pycharm": {
     "name": "#%% md\n"
    }
   }
  },
  {
   "cell_type": "code",
   "execution_count": 86,
   "outputs": [
    {
     "data": {
      "text/plain": "  Compound ID  ESOL predicted log solubility in mols per litre  \\\n0   Amigdalin                                           -0.974   \n1    Fenfuram                                           -2.885   \n2      citral                                           -2.579   \n3      Picene                                           -6.618   \n4   Thiophene                                           -2.232   \n\n   Minimum Degree  Molecular Weight  Number of H-Bond Donors  Number of Rings  \\\n0               1           457.432                        7                3   \n1               1           201.225                        1                2   \n2               1           152.237                        0                0   \n3               2           278.354                        0                5   \n4               2            84.143                        0                1   \n\n   Number of Rotatable Bonds  Polar Surface Area  \\\n0                          7              202.32   \n1                          2               42.24   \n2                          4               17.07   \n3                          0                0.00   \n4                          0                0.00   \n\n   measured log solubility in mols per litre  \\\n0                                      -0.77   \n1                                      -3.30   \n2                                      -2.06   \n3                                      -7.87   \n4                                      -1.33   \n\n                                              smiles  \n0  OCC3OC(OCC2OC(OC(C#N)c1ccccc1)C(O)C(O)C2O)C(O)...  \n1                             Cc1occc1C(=O)Nc2ccccc2  \n2                               CC(C)=CCCC(C)=CC(=O)  \n3                 c1ccc2c(c1)ccc3c2ccc4c5ccccc5ccc43  \n4                                            c1ccsc1  ",
      "text/html": "<div>\n<style scoped>\n    .dataframe tbody tr th:only-of-type {\n        vertical-align: middle;\n    }\n\n    .dataframe tbody tr th {\n        vertical-align: top;\n    }\n\n    .dataframe thead th {\n        text-align: right;\n    }\n</style>\n<table border=\"1\" class=\"dataframe\">\n  <thead>\n    <tr style=\"text-align: right;\">\n      <th></th>\n      <th>Compound ID</th>\n      <th>ESOL predicted log solubility in mols per litre</th>\n      <th>Minimum Degree</th>\n      <th>Molecular Weight</th>\n      <th>Number of H-Bond Donors</th>\n      <th>Number of Rings</th>\n      <th>Number of Rotatable Bonds</th>\n      <th>Polar Surface Area</th>\n      <th>measured log solubility in mols per litre</th>\n      <th>smiles</th>\n    </tr>\n  </thead>\n  <tbody>\n    <tr>\n      <th>0</th>\n      <td>Amigdalin</td>\n      <td>-0.974</td>\n      <td>1</td>\n      <td>457.432</td>\n      <td>7</td>\n      <td>3</td>\n      <td>7</td>\n      <td>202.32</td>\n      <td>-0.77</td>\n      <td>OCC3OC(OCC2OC(OC(C#N)c1ccccc1)C(O)C(O)C2O)C(O)...</td>\n    </tr>\n    <tr>\n      <th>1</th>\n      <td>Fenfuram</td>\n      <td>-2.885</td>\n      <td>1</td>\n      <td>201.225</td>\n      <td>1</td>\n      <td>2</td>\n      <td>2</td>\n      <td>42.24</td>\n      <td>-3.30</td>\n      <td>Cc1occc1C(=O)Nc2ccccc2</td>\n    </tr>\n    <tr>\n      <th>2</th>\n      <td>citral</td>\n      <td>-2.579</td>\n      <td>1</td>\n      <td>152.237</td>\n      <td>0</td>\n      <td>0</td>\n      <td>4</td>\n      <td>17.07</td>\n      <td>-2.06</td>\n      <td>CC(C)=CCCC(C)=CC(=O)</td>\n    </tr>\n    <tr>\n      <th>3</th>\n      <td>Picene</td>\n      <td>-6.618</td>\n      <td>2</td>\n      <td>278.354</td>\n      <td>0</td>\n      <td>5</td>\n      <td>0</td>\n      <td>0.00</td>\n      <td>-7.87</td>\n      <td>c1ccc2c(c1)ccc3c2ccc4c5ccccc5ccc43</td>\n    </tr>\n    <tr>\n      <th>4</th>\n      <td>Thiophene</td>\n      <td>-2.232</td>\n      <td>2</td>\n      <td>84.143</td>\n      <td>0</td>\n      <td>1</td>\n      <td>0</td>\n      <td>0.00</td>\n      <td>-1.33</td>\n      <td>c1ccsc1</td>\n    </tr>\n  </tbody>\n</table>\n</div>"
     },
     "execution_count": 86,
     "metadata": {},
     "output_type": "execute_result"
    }
   ],
   "source": [
    "solubility_df = pd.read_csv('data/delaney-processed.csv', header=0, sep=',')\n",
    "solubility_df.head()"
   ],
   "metadata": {
    "collapsed": false,
    "pycharm": {
     "name": "#%%\n"
    }
   }
  },
  {
   "cell_type": "markdown",
   "source": [
    "## Let's create our own features"
   ],
   "metadata": {
    "collapsed": false,
    "pycharm": {
     "name": "#%% md\n"
    }
   }
  },
  {
   "cell_type": "code",
   "execution_count": 87,
   "outputs": [
    {
     "name": "stdout",
     "output_type": "stream",
     "text": [
      "(1128, 11)\n",
      "(1128, 11)\n"
     ]
    }
   ],
   "source": [
    "solubility_df['Mol'] = solubility_df['smiles'].apply(MolFromSmiles)\n",
    "print(solubility_df.shape)\n",
    "solubility_df = solubility_df.dropna(subset=['Mol'])\n",
    "print(solubility_df.shape)\n",
    "\n",
    "calc = MoleculeDescriptors.MolecularDescriptorCalculator([x[0] for x in Descriptors._descList])\n",
    "\n",
    "X = [calc.CalcDescriptors(mol) for mol in solubility_df['Mol']]\n",
    "Y = solubility_df['measured log solubility in mols per litre'].values"
   ],
   "metadata": {
    "collapsed": false,
    "pycharm": {
     "name": "#%%\n"
    }
   }
  },
  {
   "cell_type": "markdown",
   "source": [
    "## Save new dataset with the new features for future use"
   ],
   "metadata": {
    "collapsed": false,
    "pycharm": {
     "name": "#%% md\n"
    }
   }
  },
  {
   "cell_type": "code",
   "execution_count": 88,
   "outputs": [],
   "source": [
    "new_df = pd.DataFrame(X, columns=calc.GetDescriptorNames())\n",
    "new_df['smiles'] = solubility_df.smiles.values\n",
    "new_df['logS'] = Y\n",
    "new_df.to_csv('data/processed_logs.csv', sep=',', index=False)"
   ],
   "metadata": {
    "collapsed": false,
    "pycharm": {
     "name": "#%%\n"
    }
   }
  },
  {
   "cell_type": "markdown",
   "source": [
    "## Train-test Split"
   ],
   "metadata": {
    "collapsed": false,
    "pycharm": {
     "name": "#%% md\n"
    }
   }
  },
  {
   "cell_type": "code",
   "execution_count": 89,
   "outputs": [],
   "source": [
    "X = new_df.drop(columns=['smiles', 'logS'])\n",
    "Y = new_df['logS']\n",
    "X_train, X_test, y_train, y_test = train_test_split(X, Y, test_size=0.2, random_state=42)"
   ],
   "metadata": {
    "collapsed": false,
    "pycharm": {
     "name": "#%%\n"
    }
   }
  },
  {
   "cell_type": "markdown",
   "source": [
    "## Model 1 (Linear Regression)\n",
    "\n",
    "Lets build a simple Linear Regression Model!"
   ],
   "metadata": {
    "collapsed": false,
    "pycharm": {
     "name": "#%% md\n"
    }
   }
  },
  {
   "cell_type": "code",
   "execution_count": 90,
   "outputs": [
    {
     "data": {
      "text/plain": "LinearRegression()"
     },
     "execution_count": 90,
     "metadata": {},
     "output_type": "execute_result"
    }
   ],
   "source": [
    "model = linear_model.LinearRegression()\n",
    "model.fit(X_train, y_train)"
   ],
   "metadata": {
    "collapsed": false,
    "pycharm": {
     "name": "#%%\n"
    }
   }
  },
  {
   "cell_type": "markdown",
   "source": [
    "## Model predictions"
   ],
   "metadata": {
    "collapsed": false,
    "pycharm": {
     "name": "#%% md\n"
    }
   }
  },
  {
   "cell_type": "code",
   "execution_count": 91,
   "outputs": [
    {
     "data": {
      "text/plain": "array([ -2.12921076,  -2.51219387,  -2.50517025,  -2.12921076,\n        -6.62999978,  -0.95839517,  -3.63330202,  -3.36681919,\n        -8.66837505,  -2.39683934,  -5.54109373,   1.08524577,\n        -3.48091817,  -2.00482013,  -3.6099841 ,  -0.42527866,\n        -2.41283659, -12.53484875,  -4.04931594,  -3.74411183,\n        -1.7465381 ,  -5.80656006,   0.97936017,  -2.28950264,\n        -1.47962043,  -7.48147859,  -0.34584535,   0.15832718,\n        -0.48900805,  -2.03679675,  -1.6250835 ,  -7.51396121,\n        -3.49678905,  -1.95962968,  -2.37221471,  -2.72507124,\n        -4.17903735,  -0.20961646,  -4.64568853,  -8.34157895,\n        -1.25465912,  -7.01794506,  -3.97678455,  -5.87714097,\n        -7.87959642,  -4.56400012,  -4.32437211,  -4.10046748,\n        -4.75017242,  -9.09463942,  -4.6696522 ,  -7.6642275 ,\n        -1.5337947 ,  -2.27973729,  -0.90933154,  -4.21303865,\n        -2.06403882,  -3.53662096,  -3.02706415,  -6.44594339,\n        -2.92480429,  -2.52338278,   0.21538282,  -6.59029917,\n        -3.82898954,  -2.27498322,  -2.21419691,  -5.57751532,\n        -2.68650523,  -3.31172064,  -0.38605104,   0.48751729,\n        -1.98271903,  -5.72321564,  -2.16475984,   0.59637969,\n        -1.9437832 ,  -3.93487349,  -5.03368909,  -4.92920518,\n        -4.82600314,  -1.91491555,  -3.14116305,  -4.22898162,\n        -4.696226  ,  -0.90909347,  -3.04635386,  -1.006301  ,\n        -6.21887219,   0.28297296,  -2.61241337,  -3.66260666,\n        -5.17430589,  -0.83845711,  -1.45189936,  -4.90465804,\n        -0.71064706,   0.52378377,  -2.16112893,   1.29133334,\n        -1.71373144,  -3.3655781 ,  -5.92569358,  -3.02911548,\n        -2.04264707,  -3.18584835,  -1.00162912,  -0.77744585,\n        -4.74961928,  -5.95406058,  -7.52666618,  -1.56337831,\n        -2.04587494,  -2.63981702,  -1.3203275 ,  -0.48355399,\n        -1.1730225 ,  -2.42292491,  -1.4022499 ,  -2.37625361,\n        -3.12344935,  -4.82838441,  -3.57019823,  -2.14692226,\n        -2.28370041,  -3.88020657,  -2.83737766,  -4.31837694,\n        -0.51105398,  -1.89175722,  -0.95289634,  -2.7390682 ,\n        -1.69468564,  -3.20198391,  -2.48506409,  -2.23057292,\n        -3.18155914,  -1.45937452,  -4.75983797,  -4.01251371,\n        -4.73225743,  -5.37682925,  -3.69010868,  -3.38217259,\n        -2.71420542,  -3.9285436 ,  -0.74234115,  -1.62827203,\n        -0.33357507,  -3.34289324,  -0.27470303,  -1.21961457,\n        -4.58436674,  -1.37298946,  -2.31753602,  -3.97640875,\n        -7.95232153,  -3.70609137,  -2.93808415,  -8.0852824 ,\n        -1.60415397,  -3.0812633 ,  -0.63618066,  -1.98271903,\n        -4.95266183,  -3.2878305 ,  -1.71097601,  -1.1187177 ,\n        -0.46160486,  -1.80364707,  -1.95679773,  -3.62279357,\n        -0.71826565,  -4.05978352,  -7.07801622,  -3.92285968,\n        -3.33146604,  -4.6099979 ,  -3.57771981,  -6.52997605,\n        -2.16357002,  -8.14028608,  -0.77204629,  -1.47495853,\n        -2.4640461 ,  -4.44791439,  -0.59920654,  -2.0306286 ,\n        -8.84108616,  -2.91372911,  -0.18433781,  -4.29960606,\n        -0.19742201,  -3.85369627,  -4.2119821 ,  -1.39615463,\n        -4.29860478,  -7.43897201,   0.29717484,  -3.8450282 ,\n        -0.86064149,  -3.38339861,  -2.85711287,  -2.85204846,\n        -4.68531575,  -0.21182753,  -2.88462625,  -2.28524981,\n        -0.92655688,  -4.51415871,  -1.16761514,  -3.12533226,\n        -1.59552324,   0.18664344,  -1.16504956,  -5.79000264,\n        -3.67161534,  -5.42786108,  -3.73967371,  -8.15634202,\n         0.35416542,  -3.77092202,  -4.7580852 ,  -2.34349413,\n        -2.80944426,  -3.24921431])"
     },
     "execution_count": 91,
     "metadata": {},
     "output_type": "execute_result"
    }
   ],
   "source": [
    "Y_pred = model.predict(X_test)\n",
    "Y_pred"
   ],
   "metadata": {
    "collapsed": false,
    "pycharm": {
     "name": "#%%\n"
    }
   }
  },
  {
   "cell_type": "markdown",
   "source": [
    "## Model Performance"
   ],
   "metadata": {
    "collapsed": false,
    "pycharm": {
     "name": "#%% md\n"
    }
   }
  },
  {
   "cell_type": "code",
   "execution_count": 93,
   "outputs": [
    {
     "name": "stdout",
     "output_type": "stream",
     "text": [
      "Mean squared error (MSE): 0.4728378906929895\n",
      "Coefficient of determination (R^2): 0.899966670553427\n"
     ]
    }
   ],
   "source": [
    "print(f'Mean squared error (MSE): {mean_squared_error(y_test, Y_pred)}')\n",
    "print(f'Coefficient of determination (R^2): {r2_score(y_test, Y_pred)}')"
   ],
   "metadata": {
    "collapsed": false,
    "pycharm": {
     "name": "#%%\n"
    }
   }
  },
  {
   "cell_type": "markdown",
   "source": [
    "## Data Visualization (Experimental vs Predicted LogS for Test Data)"
   ],
   "metadata": {
    "collapsed": false,
    "pycharm": {
     "name": "#%% md\n"
    }
   }
  },
  {
   "cell_type": "code",
   "execution_count": 94,
   "outputs": [
    {
     "data": {
      "text/plain": "Text(0.5, 0, 'Experimental LogS')"
     },
     "execution_count": 94,
     "metadata": {},
     "output_type": "execute_result"
    },
    {
     "data": {
      "text/plain": "<Figure size 360x360 with 1 Axes>",
      "image/png": "[encoded data removed]"
     },
     "metadata": {
      "needs_background": "light"
     },
     "output_type": "display_data"
    }
   ],
   "source": [
    "plt.figure(figsize=(5,5))\n",
    "plt.scatter(x=y_test, y=Y_pred, c=\"#7CAE00\", alpha=0.3)\n",
    "\n",
    "# Add trendline\n",
    "z = np.polyfit(y_test, Y_pred, 1)\n",
    "p = np.poly1d(z)\n",
    "\n",
    "plt.plot(y_test,p(y_test),\"#F8766D\")\n",
    "plt.ylabel('Predicted LogS')\n",
    "plt.xlabel('Experimental LogS')"
   ],
   "metadata": {
    "collapsed": false,
    "pycharm": {
     "name": "#%%\n"
    }
   }
  },
  {
   "cell_type": "markdown",
   "source": [
    "## save model as a pickle file"
   ],
   "metadata": {
    "collapsed": false,
    "pycharm": {
     "name": "#%% md\n"
    }
   }
  },
  {
   "cell_type": "code",
   "execution_count": 95,
   "outputs": [],
   "source": [
    "pickle.dump(model, open('models/solubility_model.pkl', 'wb'))"
   ],
   "metadata": {
    "collapsed": false,
    "pycharm": {
     "name": "#%%\n"
    }
   }
  },
  {
   "cell_type": "markdown",
   "source": [
    "## Model 2 (xgboost)\n",
    "\n",
    "Lets build a simple xgboost Model!"
   ],
   "metadata": {
    "collapsed": false,
    "pycharm": {
     "name": "#%% md\n"
    }
   }
  },
  {
   "cell_type": "code",
   "execution_count": 96,
   "outputs": [
    {
     "data": {
      "text/plain": "XGBRegressor(base_score=0.5, booster='gbtree', callbacks=None,\n             colsample_bylevel=1, colsample_bynode=1, colsample_bytree=1,\n             early_stopping_rounds=None, enable_categorical=False,\n             eval_metric=None, gamma=0, gpu_id=-1, grow_policy='depthwise',\n             importance_type=None, interaction_constraints='',\n             learning_rate=0.300000012, max_bin=256, max_cat_to_onehot=4,\n             max_delta_step=0, max_depth=6, max_leaves=0, min_child_weight=1,\n             missing=nan, monotone_constraints='()', n_estimators=100, n_jobs=0,\n             num_parallel_tree=1, predictor='auto', random_state=0, reg_alpha=0,\n             reg_lambda=1, ...)"
     },
     "execution_count": 96,
     "metadata": {},
     "output_type": "execute_result"
    }
   ],
   "source": [
    "xgbr = XGBRegressor()\n",
    "# fit model\n",
    "xgbr.fit(X_train, y_train)"
   ],
   "metadata": {
    "collapsed": false,
    "pycharm": {
     "name": "#%%\n"
    }
   }
  },
  {
   "cell_type": "markdown",
   "source": [
    "## Model predictions"
   ],
   "metadata": {
    "collapsed": false,
    "pycharm": {
     "name": "#%% md\n"
    }
   }
  },
  {
   "cell_type": "code",
   "execution_count": 97,
   "outputs": [
    {
     "data": {
      "text/plain": "array([-2.6227431 , -1.7691919 , -2.519029  , -2.6227431 , -7.190096  ,\n       -0.9374802 , -4.4059925 , -2.3523753 , -8.145546  , -2.9410872 ,\n       -4.5553193 , -1.2390354 , -3.436229  , -2.2354476 , -2.5452437 ,\n       -0.66163814, -2.374628  , -7.8321815 , -3.126877  , -3.7628944 ,\n       -1.0607979 , -5.83985   ,  0.9685371 , -1.2499553 , -1.2426513 ,\n       -7.841024  , -0.36558717,  0.05823075, -1.5076646 , -2.0153396 ,\n       -1.6091005 , -7.7587266 , -3.8460305 , -1.6623586 , -2.6514256 ,\n       -2.786219  , -3.783751  , -0.14668962, -4.651615  , -7.0136666 ,\n       -1.298066  , -7.291782  , -4.8915763 , -5.6058664 , -8.291172  ,\n       -4.5189047 , -4.0080657 , -3.7722013 , -4.7053566 , -6.999053  ,\n       -5.1396737 , -6.189788  , -1.1931275 , -2.2870102 , -0.87593937,\n       -4.4362354 , -1.573188  , -3.1106548 , -2.3822513 , -5.715529  ,\n       -2.4494193 , -2.3351297 ,  0.24527788, -6.0539284 , -3.9021735 ,\n       -3.0262575 , -2.1668782 , -3.8930593 , -2.2178972 , -2.35891   ,\n       -0.46717054,  0.36333212, -2.328231  , -4.471184  , -2.7306418 ,\n        0.84427655, -1.9486874 , -2.8826232 , -5.2276673 , -4.6274023 ,\n       -4.6317153 , -1.6529617 , -2.5201495 , -4.124274  , -5.1494904 ,\n       -1.4684699 , -2.4458983 , -0.46544302, -6.029744  , -0.42982244,\n       -3.63694   , -4.14498   , -4.911377  , -0.6812027 , -1.7814248 ,\n       -5.0400124 , -0.27954334,  0.91978836, -2.3428042 ,  0.18105768,\n       -1.0394154 , -3.022995  , -6.3597465 , -2.7507167 , -1.3931419 ,\n       -3.101948  , -2.542385  , -0.9183838 , -4.539105  , -7.2702537 ,\n       -6.233642  , -1.2654388 , -2.5247848 , -3.0170972 , -1.6028457 ,\n       -0.31093365, -1.187545  , -2.6612542 , -1.4894145 , -2.391111  ,\n       -3.2181556 , -5.1370234 , -3.1756382 , -2.0096474 , -2.5031817 ,\n       -3.6725774 , -2.4351318 , -5.7262006 , -0.03588188, -0.62005675,\n       -0.9134973 , -2.4292264 , -2.082014  , -2.9241729 , -1.9160401 ,\n       -2.9195728 , -2.7175918 , -3.3330946 , -4.104936  , -4.1927485 ,\n       -4.606252  , -5.8725266 , -4.2596087 , -3.5522606 , -2.1633234 ,\n       -1.9132122 , -1.947541  , -2.2115777 , -0.30533615, -3.7878194 ,\n       -0.24186125, -1.1602945 , -4.568973  , -1.3507762 , -1.7192497 ,\n       -2.6680999 , -8.816423  , -3.0851517 , -2.7001271 , -8.244159  ,\n       -1.683067  , -2.7821505 ,  0.39795005, -2.328231  , -4.898176  ,\n       -3.072221  , -1.6625768 , -1.978152  , -2.3237731 , -1.5168887 ,\n       -1.5751792 , -3.4011967 , -1.1975642 , -4.579226  , -7.277732  ,\n       -3.9496634 , -3.2773845 , -4.8347344 , -3.2439485 , -6.536314  ,\n       -2.2953906 , -7.335631  ,  0.878471  , -1.479602  , -2.6305058 ,\n       -4.261804  , -0.6311799 , -2.6776025 , -8.899386  , -2.599699  ,\n       -0.08161779, -3.9394681 , -0.29230297, -4.3964024 , -3.0940318 ,\n       -1.0426323 , -3.7555928 , -6.6503096 ,  0.31374097, -3.2031832 ,\n       -0.06129902, -4.1389523 , -3.8744905 , -2.2056417 , -4.074219  ,\n       -0.05771107, -3.4439921 , -2.7797074 , -1.0689089 , -4.5031157 ,\n       -1.2821524 , -3.171955  , -1.5108856 ,  0.10260062, -1.0352658 ,\n       -4.9641824 , -3.8714046 , -5.2733502 , -3.456184  , -8.345569  ,\n        0.4803277 , -4.8640685 , -5.779429  , -2.5524933 , -2.6844606 ,\n       -2.433728  ], dtype=float32)"
     },
     "execution_count": 97,
     "metadata": {},
     "output_type": "execute_result"
    }
   ],
   "source": [
    "Y_pred = xgbr.predict(X_test)\n",
    "Y_pred"
   ],
   "metadata": {
    "collapsed": false,
    "pycharm": {
     "name": "#%%\n"
    }
   }
  },
  {
   "cell_type": "markdown",
   "source": [
    "## Model Performance"
   ],
   "metadata": {
    "collapsed": false,
    "pycharm": {
     "name": "#%% md\n"
    }
   }
  },
  {
   "cell_type": "code",
   "execution_count": 98,
   "outputs": [
    {
     "name": "stdout",
     "output_type": "stream",
     "text": [
      "Mean squared error (MSE): 0.5295552152450466\n",
      "Coefficient of determination (R^2): 0.8879675839236967\n"
     ]
    }
   ],
   "source": [
    "print(f'Mean squared error (MSE): {mean_squared_error(y_test, Y_pred)}')\n",
    "print(f'Coefficient of determination (R^2): {r2_score(y_test, Y_pred)}')"
   ],
   "metadata": {
    "collapsed": false,
    "pycharm": {
     "name": "#%%\n"
    }
   }
  },
  {
   "cell_type": "markdown",
   "source": [
    "## Data Visualization (Experimental vs Predicted LogS for Test Data)"
   ],
   "metadata": {
    "collapsed": false,
    "pycharm": {
     "name": "#%% md\n"
    }
   }
  },
  {
   "cell_type": "code",
   "execution_count": 99,
   "outputs": [
    {
     "data": {
      "text/plain": "Text(0.5, 0, 'Experimental LogS')"
     },
     "execution_count": 99,
     "metadata": {},
     "output_type": "execute_result"
    },
    {
     "data": {
      "text/plain": "<Figure size 360x360 with 1 Axes>",
      "image/png": "[encoded data removed]"
     },
     "metadata": {
      "needs_background": "light"
     },
     "output_type": "display_data"
    }
   ],
   "source": [
    "plt.figure(figsize=(5,5))\n",
    "plt.scatter(x=y_test, y=Y_pred, c=\"#7CAE00\", alpha=0.3)\n",
    "\n",
    "# Add trendline\n",
    "z = np.polyfit(y_test, Y_pred, 1)\n",
    "p = np.poly1d(z)\n",
    "\n",
    "plt.plot(y_test,p(y_test),\"#F8766D\")\n",
    "plt.ylabel('Predicted LogS')\n",
    "plt.xlabel('Experimental LogS')"
   ],
   "metadata": {
    "collapsed": false,
    "pycharm": {
     "name": "#%%\n"
    }
   }
  },
  {
   "cell_type": "markdown",
   "source": [
    "## save model as a pickle file"
   ],
   "metadata": {
    "collapsed": false,
    "pycharm": {
     "name": "#%% md\n"
    }
   }
  },
  {
   "cell_type": "code",
   "execution_count": 100,
   "outputs": [],
   "source": [
    "# save in JSON format\n",
    "xgbr.save_model(\"models/xgboost_regressor.json\")"
   ],
   "metadata": {
    "collapsed": false,
    "pycharm": {
     "name": "#%%\n"
    }
   }
  }
 ],
 "metadata": {
  "kernelspec": {
   "display_name": "Python 3",
   "language": "python",
   "name": "python3"
  },
  "language_info": {
   "codemirror_mode": {
    "name": "ipython",
    "version": 2
   },
   "file_extension": ".py",
   "mimetype": "text/x-python",
   "name": "python",
   "nbconvert_exporter": "python",
   "pygments_lexer": "ipython2",
   "version": "2.7.6"
  }
 },
 "nbformat": 4,
 "nbformat_minor": 0
}